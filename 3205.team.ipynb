{
 "cells": [
  {
   "cell_type": "markdown",
   "metadata": {},
   "source": [
    "Задание 1"
   ]
  },
  {
   "cell_type": "code",
   "execution_count": 1,
   "metadata": {
    "ExecuteTime": {
     "end_time": "2021-08-17T18:08:38.573740Z",
     "start_time": "2021-08-17T18:08:37.552431Z"
    }
   },
   "outputs": [],
   "source": [
    "import matplotlib.pyplot as plt\n",
    "import numpy as np\n",
    "import pandas as pd"
   ]
  },
  {
   "cell_type": "code",
   "execution_count": 2,
   "metadata": {
    "ExecuteTime": {
     "end_time": "2021-08-17T18:09:00.448273Z",
     "start_time": "2021-08-17T18:08:38.751533Z"
    }
   },
   "outputs": [
    {
     "data": {
      "text/html": [
       "<div>\n",
       "<style scoped>\n",
       "    .dataframe tbody tr th:only-of-type {\n",
       "        vertical-align: middle;\n",
       "    }\n",
       "\n",
       "    .dataframe tbody tr th {\n",
       "        vertical-align: top;\n",
       "    }\n",
       "\n",
       "    .dataframe thead th {\n",
       "        text-align: right;\n",
       "    }\n",
       "</style>\n",
       "<table border=\"1\" class=\"dataframe\">\n",
       "  <thead>\n",
       "    <tr style=\"text-align: right;\">\n",
       "      <th></th>\n",
       "      <th>is_trial_period</th>\n",
       "      <th>purchase_date</th>\n",
       "      <th>user_id</th>\n",
       "    </tr>\n",
       "  </thead>\n",
       "  <tbody>\n",
       "    <tr>\n",
       "      <th>0</th>\n",
       "      <td>False</td>\n",
       "      <td>2020-02-19</td>\n",
       "      <td>9484222</td>\n",
       "    </tr>\n",
       "    <tr>\n",
       "      <th>1</th>\n",
       "      <td>False</td>\n",
       "      <td>2020-02-17</td>\n",
       "      <td>9422402</td>\n",
       "    </tr>\n",
       "    <tr>\n",
       "      <th>2</th>\n",
       "      <td>False</td>\n",
       "      <td>2020-02-18</td>\n",
       "      <td>4997991</td>\n",
       "    </tr>\n",
       "    <tr>\n",
       "      <th>3</th>\n",
       "      <td>False</td>\n",
       "      <td>2020-02-18</td>\n",
       "      <td>9455582</td>\n",
       "    </tr>\n",
       "    <tr>\n",
       "      <th>4</th>\n",
       "      <td>False</td>\n",
       "      <td>2020-02-16</td>\n",
       "      <td>8803657</td>\n",
       "    </tr>\n",
       "  </tbody>\n",
       "</table>\n",
       "</div>"
      ],
      "text/plain": [
       "   is_trial_period purchase_date  user_id\n",
       "0            False    2020-02-19  9484222\n",
       "1            False    2020-02-17  9422402\n",
       "2            False    2020-02-18  4997991\n",
       "3            False    2020-02-18  9455582\n",
       "4            False    2020-02-16  8803657"
      ]
     },
     "execution_count": 2,
     "metadata": {},
     "output_type": "execute_result"
    }
   ],
   "source": [
    "data = pd.read_excel('test_case_data_analyst.xlsx', \n",
    "                     usecols=['is_trial_period', 'purchase_date', 'user_id'])\n",
    "data.head()"
   ]
  },
  {
   "cell_type": "code",
   "execution_count": 3,
   "metadata": {
    "ExecuteTime": {
     "end_time": "2021-08-17T18:09:03.957095Z",
     "start_time": "2021-08-17T18:09:03.887363Z"
    }
   },
   "outputs": [
    {
     "name": "stdout",
     "output_type": "stream",
     "text": [
      "period: 50 days\n"
     ]
    }
   ],
   "source": [
    "data.drop_duplicates(inplace=True)\n",
    "print(\"period:\" ,(data.purchase_date.max() - data.purchase_date.min()).days, \"days\")"
   ]
  },
  {
   "cell_type": "code",
   "execution_count": 4,
   "metadata": {
    "ExecuteTime": {
     "end_time": "2021-08-17T18:10:22.078841Z",
     "start_time": "2021-08-17T18:10:21.853941Z"
    }
   },
   "outputs": [
    {
     "data": {
      "text/html": [
       "<div>\n",
       "<style scoped>\n",
       "    .dataframe tbody tr th:only-of-type {\n",
       "        vertical-align: middle;\n",
       "    }\n",
       "\n",
       "    .dataframe tbody tr th {\n",
       "        vertical-align: top;\n",
       "    }\n",
       "\n",
       "    .dataframe thead th {\n",
       "        text-align: right;\n",
       "    }\n",
       "</style>\n",
       "<table border=\"1\" class=\"dataframe\">\n",
       "  <thead>\n",
       "    <tr style=\"text-align: right;\">\n",
       "      <th></th>\n",
       "      <th>purchase_date</th>\n",
       "      <th>user_id</th>\n",
       "      <th>amount</th>\n",
       "    </tr>\n",
       "  </thead>\n",
       "  <tbody>\n",
       "    <tr>\n",
       "      <th>1</th>\n",
       "      <td>2020-02-10</td>\n",
       "      <td>404</td>\n",
       "      <td>4.99</td>\n",
       "    </tr>\n",
       "    <tr>\n",
       "      <th>4</th>\n",
       "      <td>2020-02-03</td>\n",
       "      <td>9010</td>\n",
       "      <td>4.99</td>\n",
       "    </tr>\n",
       "    <tr>\n",
       "      <th>5</th>\n",
       "      <td>2020-02-10</td>\n",
       "      <td>9010</td>\n",
       "      <td>4.99</td>\n",
       "    </tr>\n",
       "    <tr>\n",
       "      <th>6</th>\n",
       "      <td>2020-02-17</td>\n",
       "      <td>9010</td>\n",
       "      <td>4.99</td>\n",
       "    </tr>\n",
       "    <tr>\n",
       "      <th>9</th>\n",
       "      <td>2020-01-27</td>\n",
       "      <td>23403</td>\n",
       "      <td>4.99</td>\n",
       "    </tr>\n",
       "  </tbody>\n",
       "</table>\n",
       "</div>"
      ],
      "text/plain": [
       "  purchase_date  user_id  amount\n",
       "1    2020-02-10      404    4.99\n",
       "4    2020-02-03     9010    4.99\n",
       "5    2020-02-10     9010    4.99\n",
       "6    2020-02-17     9010    4.99\n",
       "9    2020-01-27    23403    4.99"
      ]
     },
     "execution_count": 4,
     "metadata": {},
     "output_type": "execute_result"
    }
   ],
   "source": [
    "data.sort_values(by=[\"user_id\",\"purchase_date\"], inplace = True)\n",
    "\n",
    "data.reset_index(inplace=True, drop=True)\n",
    "\n",
    "data = data[data.is_trial_period == False].drop(columns=\"is_trial_period\")\n",
    "\n",
    "data['amount'] = 4.99\n",
    "\n",
    "data.head()"
   ]
  },
  {
   "cell_type": "code",
   "execution_count": 5,
   "metadata": {
    "ExecuteTime": {
     "end_time": "2021-08-17T18:11:32.861027Z",
     "start_time": "2021-08-17T18:11:32.567677Z"
    }
   },
   "outputs": [],
   "source": [
    "data_groupby_user = data.groupby(by = [\"user_id\"]).agg({\"purchase_date\": \"min\", \"amount\": [\"sum\",\"count\"]})\n",
    "data_groupby_user.reset_index(inplace = True)\n",
    "\n",
    "data_groupby_user.columns = [\"user_id\", \"first_date\", \"total_amount\", \"trasactions\"]\n",
    "\n",
    "data_groupby_user['cohort'] = data_groupby_user[\"first_date\"].dt.strftime('%V').astype('int')"
   ]
  },
  {
   "cell_type": "code",
   "execution_count": 6,
   "metadata": {
    "ExecuteTime": {
     "end_time": "2021-08-17T18:11:36.266743Z",
     "start_time": "2021-08-17T18:11:36.177608Z"
    }
   },
   "outputs": [
    {
     "name": "stdout",
     "output_type": "stream",
     "text": [
      "LTV 1: 19.96 USD\n",
      "LTV 2: 20.91 USD\n",
      "LTV 3: 18.52 USD\n",
      "LTV 4: 15.61 USD\n",
      "LTV 5: 12.61 USD\n",
      "LTV 6: 9.81 USD\n",
      "LTV 7: 6.63 USD\n"
     ]
    }
   ],
   "source": [
    "# текущий LTV\n",
    "for i in range(1, 8):\n",
    "    print(f\"LTV {i}:\", np.round(data_groupby_user[data_groupby_user.cohort == i].total_amount.sum() / \\\n",
    "          len(data_groupby_user[data_groupby_user.cohort == i]), 2), \"USD\")"
   ]
  },
  {
   "cell_type": "markdown",
   "metadata": {},
   "source": [
    "При далшейшем сборе статистики LTV каждой из кагорт будет увеличиваться,\n",
    "пока в кагорте совсем не останется активных пользователей.\n",
    "По данному расчету мы можем сделать вывод, что LTV от клиента,\n",
    "который совершил первый платеж, будет не менее 21 USD."
   ]
  },
  {
   "cell_type": "code",
   "execution_count": 8,
   "metadata": {
    "ExecuteTime": {
     "end_time": "2021-08-17T18:15:56.175986Z",
     "start_time": "2021-08-17T18:15:56.096647Z"
    }
   },
   "outputs": [
    {
     "name": "stdout",
     "output_type": "stream",
     "text": [
      "regression score: 0.9964315228607629\n"
     ]
    }
   ],
   "source": [
    "from sklearn.linear_model import LinearRegression\n",
    "\n",
    "ltv = []\n",
    "for i in range(2, 9):\n",
    "    d = data_groupby_user[data_groupby_user.cohort == i].total_amount.sum() / \\\n",
    "          len(data_groupby_user[data_groupby_user.cohort == i])\n",
    "    ltv = [np.round(d, 2)] + ltv\n",
    "ltv\n",
    "\n",
    "week = np.array(range(2,9)).reshape(-1, 1)\n",
    "\n",
    "reg = LinearRegression().fit(week, ltv)\n",
    "\n",
    "print(\"regression score:\",reg.score(week, ltv))"
   ]
  },
  {
   "cell_type": "code",
   "execution_count": 12,
   "metadata": {
    "ExecuteTime": {
     "end_time": "2021-08-17T18:17:30.188361Z",
     "start_time": "2021-08-17T18:17:30.171683Z"
    },
    "scrolled": true
   },
   "outputs": [
    {
     "name": "stdout",
     "output_type": "stream",
     "text": [
      "LTV на пол года, 26 недель: 70.73 USD\n"
     ]
    }
   ],
   "source": [
    "print(\"LTV на пол года, 26 недель:\", np.round(reg.predict([[26]])[0], 2), \"USD\")"
   ]
  },
  {
   "cell_type": "code",
   "execution_count": 13,
   "metadata": {
    "ExecuteTime": {
     "end_time": "2021-08-17T18:17:35.736771Z",
     "start_time": "2021-08-17T18:17:35.286503Z"
    },
    "scrolled": true
   },
   "outputs": [
    {
     "data": {
      "image/png": "[encoded data removed]",
      "text/plain": [
       "<Figure size 720x360 with 1 Axes>"
      ]
     },
     "metadata": {
      "needs_background": "light"
     },
     "output_type": "display_data"
    }
   ],
   "source": [
    "# график, отображающий кривую фактического LTV на фоне кривой прогнозируемого LTV\n",
    "фоне кривой прогнозируемого LTV\n",
    "plt.figure(figsize=(10,5))\n",
    "plt.plot(np.array(range(2,27)), reg.predict(np.array(range(2,27)).reshape(-1, 1)), 'ro',label=\"predictoin\")\n",
    "plt.plot(np.array(range(2,9)), ltv, 'bo', label=\"real\")\n",
    "plt.title(\"LTV\")\n",
    "plt.xlabel(\"week\")\n",
    "plt.ylabel(\"USD\")\n",
    "plt.legend()\n",
    "plt.show()"
   ]
  },
  {
   "cell_type": "code",
   "execution_count": 14,
   "metadata": {
    "ExecuteTime": {
     "end_time": "2021-08-17T18:19:45.529982Z",
     "start_time": "2021-08-17T18:19:45.514316Z"
    }
   },
   "outputs": [
    {
     "name": "stdout",
     "output_type": "stream",
     "text": [
      "ROMI 4 week: 110 %\n",
      "ROMI 6 month: 1079 %\n"
     ]
    }
   ],
   "source": [
    "print(\"ROMI 4 week:\", round((ltv[3] - 6) / 6 * 100), \"%\")\n",
    "print(\"ROMI 6 month:\", round((reg.predict([[26]])[0] - 6) / 6 * 100), \"%\")"
   ]
  },
  {
   "cell_type": "markdown",
   "metadata": {},
   "source": [
    "Задание 2"
   ]
  },
  {
   "cell_type": "code",
   "execution_count": null,
   "metadata": {},
   "outputs": [],
   "source": [
    "# среднее значение по сумме продажи\n",
    "SELECT SUM(sale_amount) / COUNT(1) mean\n",
    "FROM orders"
   ]
  },
  {
   "cell_type": "code",
   "execution_count": null,
   "metadata": {},
   "outputs": [],
   "source": [
    "# медиана по сумме продажи\n",
    "SELECT sale_amount median\n",
    "FROM orders\n",
    "ORDER BY sale_amount\n",
    "LIMIT 1 \n",
    "OFFSET (SELECT COUNT(1) FROM orders) / 2;"
   ]
  },
  {
   "cell_type": "code",
   "execution_count": null,
   "metadata": {},
   "outputs": [],
   "source": [
    "# поиск задублированных строк\n",
    "SELECT transaction_id, datetime, amount, user_id, COUNT(*)\n",
    "FROM purchases\n",
    "GROUP BY transaction_id, datetime, amount, user_id\n",
    "HAVING COUNT(*) > 1"
   ]
  },
  {
   "cell_type": "code",
   "execution_count": null,
   "metadata": {},
   "outputs": [],
   "source": [
    "# воронка перехода из установки в оформление пробного периода \n",
    "# и в покупку платной версии приложения в разрезе стран\n",
    "\n",
    "SELECT t1.country, t1.install, t2.trail, t3.purchase, \n",
    "t2.trail * 100 / t1.install conversion_rate_to_trial,\n",
    "t3.purchase * 100 / t1.install conversion_rate_to_purchase\n",
    "FROM \n",
    "  (SELECT country, count(*) install\n",
    "  FROM events\n",
    "  WHERE event_type = 'install'\n",
    "  GROUP BY country) AS t1\n",
    "LEFT JOIN\n",
    "  (SELECT country, count(*) trail\n",
    "  FROM events\n",
    "  WHERE event_type = 'train'\n",
    "  GROUP BY country) AS t2\n",
    "ON t1.country=t2.country\n",
    "LEFT JOIN\n",
    "  (SELECT country, count(*) purchase\n",
    "  FROM events\n",
    "  WHERE event_type = 'purchase'\n",
    "  GROUP BY country) AS t3\n",
    "ON t1.country=t3.country;"
   ]
  },
  {
   "cell_type": "markdown",
   "metadata": {},
   "source": [
    "Задание 3\n",
    "\n",
    "Продуктовый менеджер сформировал гипотезу,  \n",
    "что новая версия экрана продаж будет лучше перформить по сравнению со старой,   \n",
    "в связи с тем, что на новом экране продаж более понятно описаны преимущества платной версии приложения.  \n",
    "Продуктовый менеджер ожидает увеличение уровня конверсии из установки в покупку платной версии приложения.  \n",
    "Приложение тем временем уже очень активно продвигается на рынке,  \n",
    "каждый день привлекается в среднем по 30 000 новых пользователей,  \n",
    "текущий уровень конверсии из установки в покупку 5%.  \n",
    "Как бы вы предложили проверить данную гипотезу,  \n",
    "какие инструменты и тесты бы использовали в процессе проверки?"
   ]
  },
  {
   "cell_type": "markdown",
   "metadata": {
    "ExecuteTime": {
     "end_time": "2021-08-17T16:44:54.925406Z",
     "start_time": "2021-08-17T16:44:54.908497Z"
    }
   },
   "source": [
    "1. Рандомно разбиваем новых пользователей на контрольную и тестовую группы.   \n",
    "Пытаемся произвести разбивку таким образом, чтобы основные и важные для нас признаки  \n",
    "(пол, возраст, страна и т.д.) были равномерно распределены между группами.  \n",
    "1. Подсчитываем количество подписок в одной и в другой группах.  \n",
    "На контрольную группу 30000 человек конверсия 5% соответсвует следующим цифрам [28500 - отказы, 1500 - подписки]  \n",
    "Предположим, что в тестовой группе конверсия составила 5,5% [28350 - отказы, 1650 - подписки]\n",
    "1. Так как вид рассматриваемой переменной качественный (пользователь либо купил подписку, либо нет),  \n",
    "то мы будем использовать Критерий χ2 (хи-квадрат)  \n",
    "1. Для рассчета используем библиотеку scipy"
   ]
  },
  {
   "cell_type": "code",
   "execution_count": 15,
   "metadata": {
    "ExecuteTime": {
     "end_time": "2021-08-17T18:25:13.917948Z",
     "start_time": "2021-08-17T18:25:13.902211Z"
    }
   },
   "outputs": [
    {
     "name": "stdout",
     "output_type": "stream",
     "text": [
      "Отвергаем гипотезу Н0, статистически значимое различие\n",
      "P-уровень значимости: 0.006384\n"
     ]
    }
   ],
   "source": [
    "from scipy import stats\n",
    "\n",
    "\n",
    "obs = np.array([[28500, 1500], [28350, 1650]])\n",
    "chi2, p, dof, expected = stats.chi2_contingency(obs)\n",
    "\n",
    "alpha = 0.05\n",
    "if p > alpha:\n",
    "    print('Принимаем гипотезу Н0, различий между выборками нет')\n",
    "else:\n",
    "    print('Отвергаем гипотезу Н0, статистически значимое различие')\n",
    "\n",
    "print('P-уровень значимости:', np.round(p, 6))"
   ]
  },
  {
   "cell_type": "markdown",
   "metadata": {},
   "source": [
    "За 2 дня теста (60000 наблюдений) у нас получилось выявить статистически значимое различие   \n",
    "при изменении конверсии на пол процента."
   ]
  }
 ],
 "metadata": {
  "kernelspec": {
   "display_name": "Python 3",
   "language": "python",
   "name": "python3"
  },
  "language_info": {
   "codemirror_mode": {
    "name": "ipython",
    "version": 3
   },
   "file_extension": ".py",
   "mimetype": "text/x-python",
   "name": "python",
   "nbconvert_exporter": "python",
   "pygments_lexer": "ipython3",
   "version": "3.7.3"
  },
  "toc": {
   "base_numbering": 1,
   "nav_menu": {},
   "number_sections": true,
   "sideBar": true,
   "skip_h1_title": false,
   "title_cell": "Table of Contents",
   "title_sidebar": "Contents",
   "toc_cell": false,
   "toc_position": {},
   "toc_section_display": true,
   "toc_window_display": false
  },
  "varInspector": {
   "cols": {
    "lenName": 16,
    "lenType": 16,
    "lenVar": 40
   },
   "kernels_config": {
    "python": {
     "delete_cmd_postfix": "",
     "delete_cmd_prefix": "del ",
     "library": "var_list.py",
     "varRefreshCmd": "print(var_dic_list())"
    },
    "r": {
     "delete_cmd_postfix": ") ",
     "delete_cmd_prefix": "rm(",
     "library": "var_list.r",
     "varRefreshCmd": "cat(var_dic_list()) "
    }
   },
   "types_to_exclude": [
    "module",
    "function",
    "builtin_function_or_method",
    "instance",
    "_Feature"
   ],
   "window_display": false
  }
 },
 "nbformat": 4,
 "nbformat_minor": 2
}
